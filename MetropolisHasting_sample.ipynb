{
  "nbformat": 4,
  "nbformat_minor": 0,
  "metadata": {
    "colab": {
      "name": "MetropolisHasting_sample.ipynb",
      "provenance": [],
      "include_colab_link": true
    },
    "kernelspec": {
      "name": "python3",
      "display_name": "Python 3"
    }
  },
  "cells": [
    {
      "cell_type": "markdown",
      "metadata": {
        "id": "view-in-github",
        "colab_type": "text"
      },
      "source": [
        "<a href=\"https://colab.research.google.com/github/zxzhaixiang/MachineLearning_demo/blob/master/MetropolisHasting_sample.ipynb\" target=\"_parent\"><img src=\"https://colab.research.google.com/assets/colab-badge.svg\" alt=\"Open In Colab\"/></a>"
      ]
    },
    {
      "cell_type": "code",
      "metadata": {
        "id": "GV_JwPEkERu5",
        "colab_type": "code",
        "colab": {}
      },
      "source": [
        "import numpy as np\n",
        "import scipy.stats\n",
        "import matplotlib.pyplot as plt"
      ],
      "execution_count": 0,
      "outputs": []
    },
    {
      "cell_type": "code",
      "metadata": {
        "id": "5vlFU6CCEYie",
        "colab_type": "code",
        "colab": {}
      },
      "source": [
        "def prob(x, mu = 0, sigma = 1):\n",
        "    return 1.0/np.sqrt(2*np.pi)/sigma*np.exp(-(x-mu)*(x-mu)/2.0/sigma/sigma)"
      ],
      "execution_count": 0,
      "outputs": []
    },
    {
      "cell_type": "code",
      "metadata": {
        "id": "6zNVg4H-E3Jt",
        "colab_type": "code",
        "colab": {
          "base_uri": "https://localhost:8080/",
          "height": 282
        },
        "outputId": "b5a7b36c-f5e7-409a-c3fc-04c3b08cfc89"
      },
      "source": [
        "x = np.linspace(-5,5,1000)\n",
        "p = prob(x)\n",
        "\n",
        "plt.plot(x,p)"
      ],
      "execution_count": 12,
      "outputs": [
        {
          "output_type": "execute_result",
          "data": {
            "text/plain": [
              "[<matplotlib.lines.Line2D at 0x7fb703b13208>]"
            ]
          },
          "metadata": {
            "tags": []
          },
          "execution_count": 12
        },
        {
          "output_type": "display_data",
          "data": {
            "image/png": "[encoded data removed]",
            "text/plain": [
              "<Figure size 432x288 with 1 Axes>"
            ]
          },
          "metadata": {
            "tags": []
          }
        }
      ]
    },
    {
      "cell_type": "code",
      "metadata": {
        "id": "1lDvnMqIE8nV",
        "colab_type": "code",
        "colab": {}
      },
      "source": [
        "n = 1000\n",
        "x = np.zeros(n)"
      ],
      "execution_count": 0,
      "outputs": []
    },
    {
      "cell_type": "code",
      "metadata": {
        "id": "t9sxuq1ERxir",
        "colab_type": "code",
        "colab": {}
      },
      "source": [
        "prob_prev = prob(x[0])\n",
        "for i in range(1,n):\n",
        "    xtmp = np.random.rand()*10.0-5.0\n",
        "    prob_new = prob(xtmp)\n",
        "    A = min(1, prob_new/prob_prev)\n",
        "    if np.random.rand()<=A:\n",
        "        x[i], prob_prev = xtmp, prob_new\n",
        "    else:\n",
        "        x[i] = x[i-1]"
      ],
      "execution_count": 0,
      "outputs": []
    },
    {
      "cell_type": "code",
      "metadata": {
        "id": "kz02YTMwRyZ4",
        "colab_type": "code",
        "colab": {
          "base_uri": "https://localhost:8080/",
          "height": 265
        },
        "outputId": "8fcd720c-46ef-4027-b9b3-087dc1443f7f"
      },
      "source": [
        "plt.hist(x,int(np.sqrt(n)));"
      ],
      "execution_count": 34,
      "outputs": [
        {
          "output_type": "display_data",
          "data": {
            "image/png": "[encoded data removed]",
            "text/plain": [
              "<Figure size 432x288 with 1 Axes>"
            ]
          },
          "metadata": {
            "tags": []
          }
        }
      ]
    },
    {
      "cell_type": "code",
      "metadata": {
        "id": "DVnYNH62SfPK",
        "colab_type": "code",
        "colab": {
          "base_uri": "https://localhost:8080/",
          "height": 34
        },
        "outputId": "29f0fd8d-397d-443f-d20f-b244a7ffe847"
      },
      "source": [
        "w, pvalue = scipy.stats.shapiro(x)\n",
        "print(f'Shapiro-Wilk test results: w={w}, p-value={pvalue}')"
      ],
      "execution_count": 35,
      "outputs": [
        {
          "output_type": "stream",
          "text": [
            "Shapiro-Wilk test results: w=0.9948745369911194, p-value=0.0018332061590626836\n"
          ],
          "name": "stdout"
        }
      ]
    },
    {
      "cell_type": "code",
      "metadata": {
        "id": "EKp9vGL4Xsux",
        "colab_type": "code",
        "colab": {}
      },
      "source": [
        ""
      ],
      "execution_count": 0,
      "outputs": []
    }
  ]
}